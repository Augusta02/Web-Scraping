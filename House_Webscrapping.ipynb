{
  "cells": [
    {
      "cell_type": "markdown",
      "metadata": {
        "colab_type": "text",
        "id": "view-in-github"
      },
      "source": [
        "<a href=\"https://colab.research.google.com/github/Augusta02/websrapping/blob/main/House_Webscrapping.ipynb\" target=\"_parent\"><img src=\"https://colab.research.google.com/assets/colab-badge.svg\" alt=\"Open In Colab\"/></a>"
      ]
    },
    {
      "cell_type": "markdown",
      "metadata": {
        "id": "xxxfm5Z9NxxB"
      },
      "source": [
        "# Web Scraping Nigeria Housing Data\n",
        "\n",
        "---\n",
        "\n",
        "\n",
        "\n",
        "Data is not readily available in Nigeria, therefore data professionals in this part of the world have to utilize web scraping to bridge the gap. In this project, I would be collecting data for a house prices project in Nigeria and I would be scraping three popular websites used to search for homes and answer business questions such as :\n",
        "\n",
        "- Average Price of Homes by Location\n",
        "- Average Price of Homes by Type\n",
        "\n",
        "- Nigeria Property Centre: https://nigeriapropertycentre.com/\n",
        "- Property Pro: https://www.propertypro.ng/\n",
        "- Jiji: https://jiji.ng/api_web/v1/listing?slug=houses-apartments-for-rent\n",
        "\n",
        "Data such as Description of the home/apartment, location and price would be collected from each of the websites and API. Information like are not included because Size of the rooms are not provided in the websites, also from further research size is determined by the owners of the properties. \n",
        "\n",
        "The most popular way to web scrap is through BeautifulSoup, a Python Package used for extracting data from HTML and XML contents. I will use this method and introduce extracting data through APIs in this project. \n",
        "\n",
        "API is the acronym for Application Programming Interface. It is a software intermediary that allows communication between two applications, and APIs are used to extract and share data.\n",
        "\n",
        "Read more here: https://en.wikipedia.org/wiki/API\n"
      ]
    },
    {
      "cell_type": "markdown",
      "metadata": {
        "id": "LrzbL6azTDQd"
      },
      "source": [
        "# BeautifulSoup\n",
        "## Nigeria Property \n",
        "\n",
        "In this section, I would use the first two websites url to requests and get the contents of the websites, and finally store the data collected into a csv file. "
      ]
    },
    {
      "cell_type": "code",
      "execution_count": null,
      "metadata": {
        "id": "xwgEhqSazmS1"
      },
      "outputs": [],
      "source": [
        "# import necessary libraries\n",
        "\n",
        "import requests\n",
        "from bs4 import BeautifulSoup\n",
        "import pandas as pd\n",
        "import re"
      ]
    },
    {
      "cell_type": "code",
      "execution_count": null,
      "metadata": {
        "colab": {
          "background_save": true
        },
        "id": "SeKJ2xFh0lCs"
      },
      "outputs": [],
      "source": [
        "# create an empty list \n",
        "listings = []\n",
        "\n",
        "# scrap data from 1000 pages\n",
        "for i in range(1,1000):\n",
        "  # store the url in the url variable \n",
        "  url = f\"https://nigeriapropertycentre.com/for-rent?page={i}\"\n",
        "  headers = {'User-Agent': 'Mozilla/5.0 (Macintosh; Intel Mac OS X 10_11_5) AppleWebKit/537.36 (KHTML, like Gecko) Chrome/50.0.2661.102 Safari/537.36'}\n",
        "\n",
        "  # get content of the website\n",
        "  response= requests.get(url,headers=headers)\n",
        "  # print(response.status_code)\n",
        "  # status code should be 200 \n",
        "\n",
        "  # parse url content into BeautifulSoup \n",
        "  soup= BeautifulSoup(response.content, \"html.parser\")\n",
        "\n",
        "  # the data needed is stored in cards\n",
        "  # find all the cards using the find_all function\n",
        "  # pass in the element and class where the card is stored\n",
        "  items= soup.find_all('div', class_='wp-block-body')\n",
        "\n",
        "  # iterate through all the cards and collect the data needed\n",
        "  # by locating where each data is nested in the html tag.\n",
        "  for item in items:\n",
        "    \n",
        "    description = item.find('h4', class_='content-title').get_text()\n",
        "    location = item.find('address', class_='voffset-bottom-10').get_text()\n",
        "    # the price data is stored in span tag\n",
        "    # the span tag appears twice with the same class name\n",
        "    # in BeauttifulSoup, it would return the data in the span tag\n",
        "    # therefore input all data in the span tag in a list\n",
        "    prices = item.find_all('span', class_='price')\n",
        "    # the data we need is in the second positio of the list\n",
        "    # use indexing to locate it \n",
        "    price = prices[1].get_text()\n",
        "    # append the data to the listings list\n",
        "    listings.append([description, location,price])"
      ]
    },
    {
      "cell_type": "code",
      "execution_count": null,
      "metadata": {
        "colab": {
          "base_uri": "https://localhost:8080/",
          "height": 206
        },
        "id": "5GINJ23BNRLZ",
        "outputId": "6ca6ab56-2c44-423a-9796-af34d95d5577"
      },
      "outputs": [
        {
          "data": {
            "text/html": [
              "\n",
              "  <div id=\"df-ac9d85a0-996e-4f57-b801-4b02b73d7aea\">\n",
              "    <div class=\"colab-df-container\">\n",
              "      <div>\n",
              "<style scoped>\n",
              "    .dataframe tbody tr th:only-of-type {\n",
              "        vertical-align: middle;\n",
              "    }\n",
              "\n",
              "    .dataframe tbody tr th {\n",
              "        vertical-align: top;\n",
              "    }\n",
              "\n",
              "    .dataframe thead th {\n",
              "        text-align: right;\n",
              "    }\n",
              "</style>\n",
              "<table border=\"1\" class=\"dataframe\">\n",
              "  <thead>\n",
              "    <tr style=\"text-align: right;\">\n",
              "      <th></th>\n",
              "      <th>Description</th>\n",
              "      <th>Location</th>\n",
              "      <th>Price</th>\n",
              "    </tr>\n",
              "  </thead>\n",
              "  <tbody>\n",
              "    <tr>\n",
              "      <th>0</th>\n",
              "      <td>4 bedroom semi-detached duplex for rent</td>\n",
              "      <td>Lekki Conservation Road, Lekki, Lagos</td>\n",
              "      <td>5,500,000</td>\n",
              "    </tr>\n",
              "    <tr>\n",
              "      <th>1</th>\n",
              "      <td>4 bedroom terraced duplex for rent</td>\n",
              "      <td>Ikota, Lekki, Lagos</td>\n",
              "      <td>3,500,000</td>\n",
              "    </tr>\n",
              "    <tr>\n",
              "      <th>2</th>\n",
              "      <td>3 bedroom flat / apartment for rent</td>\n",
              "      <td>Thomas Estate, Ajah, Lagos</td>\n",
              "      <td>2,000,000</td>\n",
              "    </tr>\n",
              "    <tr>\n",
              "      <th>3</th>\n",
              "      <td>2 bedroom flat / apartment for rent</td>\n",
              "      <td>By Dunamis, Lugbe District, Abuja</td>\n",
              "      <td>1,500,000</td>\n",
              "    </tr>\n",
              "    <tr>\n",
              "      <th>4</th>\n",
              "      <td>Self contain (single rooms) for rent</td>\n",
              "      <td>Newly Built Roomself At Diya Road Gbagada Fo...</td>\n",
              "      <td>600,000</td>\n",
              "    </tr>\n",
              "  </tbody>\n",
              "</table>\n",
              "</div>\n",
              "      <button class=\"colab-df-convert\" onclick=\"convertToInteractive('df-ac9d85a0-996e-4f57-b801-4b02b73d7aea')\"\n",
              "              title=\"Convert this dataframe to an interactive table.\"\n",
              "              style=\"display:none;\">\n",
              "        \n",
              "  <svg xmlns=\"http://www.w3.org/2000/svg\" height=\"24px\"viewBox=\"0 0 24 24\"\n",
              "       width=\"24px\">\n",
              "    <path d=\"M0 0h24v24H0V0z\" fill=\"none\"/>\n",
              "    <path d=\"M18.56 5.44l.94 2.06.94-2.06 2.06-.94-2.06-.94-.94-2.06-.94 2.06-2.06.94zm-11 1L8.5 8.5l.94-2.06 2.06-.94-2.06-.94L8.5 2.5l-.94 2.06-2.06.94zm10 10l.94 2.06.94-2.06 2.06-.94-2.06-.94-.94-2.06-.94 2.06-2.06.94z\"/><path d=\"M17.41 7.96l-1.37-1.37c-.4-.4-.92-.59-1.43-.59-.52 0-1.04.2-1.43.59L10.3 9.45l-7.72 7.72c-.78.78-.78 2.05 0 2.83L4 21.41c.39.39.9.59 1.41.59.51 0 1.02-.2 1.41-.59l7.78-7.78 2.81-2.81c.8-.78.8-2.07 0-2.86zM5.41 20L4 18.59l7.72-7.72 1.47 1.35L5.41 20z\"/>\n",
              "  </svg>\n",
              "      </button>\n",
              "      \n",
              "  <style>\n",
              "    .colab-df-container {\n",
              "      display:flex;\n",
              "      flex-wrap:wrap;\n",
              "      gap: 12px;\n",
              "    }\n",
              "\n",
              "    .colab-df-convert {\n",
              "      background-color: #E8F0FE;\n",
              "      border: none;\n",
              "      border-radius: 50%;\n",
              "      cursor: pointer;\n",
              "      display: none;\n",
              "      fill: #1967D2;\n",
              "      height: 32px;\n",
              "      padding: 0 0 0 0;\n",
              "      width: 32px;\n",
              "    }\n",
              "\n",
              "    .colab-df-convert:hover {\n",
              "      background-color: #E2EBFA;\n",
              "      box-shadow: 0px 1px 2px rgba(60, 64, 67, 0.3), 0px 1px 3px 1px rgba(60, 64, 67, 0.15);\n",
              "      fill: #174EA6;\n",
              "    }\n",
              "\n",
              "    [theme=dark] .colab-df-convert {\n",
              "      background-color: #3B4455;\n",
              "      fill: #D2E3FC;\n",
              "    }\n",
              "\n",
              "    [theme=dark] .colab-df-convert:hover {\n",
              "      background-color: #434B5C;\n",
              "      box-shadow: 0px 1px 3px 1px rgba(0, 0, 0, 0.15);\n",
              "      filter: drop-shadow(0px 1px 2px rgba(0, 0, 0, 0.3));\n",
              "      fill: #FFFFFF;\n",
              "    }\n",
              "  </style>\n",
              "\n",
              "      <script>\n",
              "        const buttonEl =\n",
              "          document.querySelector('#df-ac9d85a0-996e-4f57-b801-4b02b73d7aea button.colab-df-convert');\n",
              "        buttonEl.style.display =\n",
              "          google.colab.kernel.accessAllowed ? 'block' : 'none';\n",
              "\n",
              "        async function convertToInteractive(key) {\n",
              "          const element = document.querySelector('#df-ac9d85a0-996e-4f57-b801-4b02b73d7aea');\n",
              "          const dataTable =\n",
              "            await google.colab.kernel.invokeFunction('convertToInteractive',\n",
              "                                                     [key], {});\n",
              "          if (!dataTable) return;\n",
              "\n",
              "          const docLinkHtml = 'Like what you see? Visit the ' +\n",
              "            '<a target=\"_blank\" href=https://colab.research.google.com/notebooks/data_table.ipynb>data table notebook</a>'\n",
              "            + ' to learn more about interactive tables.';\n",
              "          element.innerHTML = '';\n",
              "          dataTable['output_type'] = 'display_data';\n",
              "          await google.colab.output.renderOutput(dataTable, element);\n",
              "          const docLink = document.createElement('div');\n",
              "          docLink.innerHTML = docLinkHtml;\n",
              "          element.appendChild(docLink);\n",
              "        }\n",
              "      </script>\n",
              "    </div>\n",
              "  </div>\n",
              "  "
            ],
            "text/plain": [
              "                               Description  \\\n",
              "0  4 bedroom semi-detached duplex for rent   \n",
              "1       4 bedroom terraced duplex for rent   \n",
              "2      3 bedroom flat / apartment for rent   \n",
              "3      2 bedroom flat / apartment for rent   \n",
              "4     Self contain (single rooms) for rent   \n",
              "\n",
              "                                            Location      Price  \n",
              "0              Lekki Conservation Road, Lekki, Lagos  5,500,000  \n",
              "1                                Ikota, Lekki, Lagos  3,500,000  \n",
              "2                         Thomas Estate, Ajah, Lagos  2,000,000  \n",
              "3                  By Dunamis, Lugbe District, Abuja  1,500,000  \n",
              "4    Newly Built Roomself At Diya Road Gbagada Fo...    600,000  "
            ]
          },
          "execution_count": 3,
          "metadata": {},
          "output_type": "execute_result"
        }
      ],
      "source": [
        "# convert the list into a dataframe \n",
        "df= pd.DataFrame(listings, columns=['Description', 'Location', 'Price'])\n",
        "df.head()"
      ]
    },
    {
      "cell_type": "code",
      "execution_count": null,
      "metadata": {
        "id": "MazK_B5FNn87"
      },
      "outputs": [],
      "source": [
        "# change the dataframe into a csv file. \n",
        "# it automatically saves when the cell is run\n",
        "df.to_csv('Nigerian Properties.csv')"
      ]
    },
    {
      "cell_type": "code",
      "execution_count": null,
      "metadata": {
        "colab": {
          "base_uri": "https://localhost:8080/"
        },
        "id": "4wD3r3rtE3YD",
        "outputId": "3b92a0bb-cbe2-4bcf-d532-7e6a1bf9e24c"
      },
      "outputs": [
        {
          "data": {
            "text/plain": [
              "(20979, 3)"
            ]
          },
          "execution_count": 5,
          "metadata": {},
          "output_type": "execute_result"
        }
      ],
      "source": [
        "df.shape"
      ]
    },
    {
      "cell_type": "markdown",
      "metadata": {
        "id": "NqNso9HtOHEd"
      },
      "source": [
        "# Property Pro\n",
        "\n",
        "The same method applied to the previous website was used here. The difference is in how the data was accessed, since both websites have different structure."
      ]
    },
    {
      "cell_type": "code",
      "execution_count": null,
      "metadata": {
        "id": "j92RjbvkOJ5_"
      },
      "outputs": [],
      "source": [
        "listed_homes = []\n",
        "\n",
        "for i in range(1,1000):\n",
        "  url = f'https://www.propertypro.ng/property-for-rent?psafe_param=1&gclid=CjwKCAjw8-OhBhB5EiwADyoY1YL38QnX6VQtuVQEL5gD74EeWUTHlnUMAgpo9EOS1_CSoeSt-YzdHxoCF_oQAvD_BwE&page={i}'\n",
        "  headers ={'user-agent': 'Mozilla/5.0 (Macintosh; Intel Mac OS X 10_15_7) AppleWebKit/537.36 (KHTML, like Gecko) Chrome/112.0.0.0 Safari/537.36'}\n",
        "  res = requests.get(url,headers=headers)\n",
        "\n",
        "  pro_soup = BeautifulSoup(res.content, 'html.parser')\n",
        "  homes = pro_soup.find_all('div', class_='single-room-sale listings-property')\n",
        "  # print(homes)\n",
        "\n",
        "  for home in homes:\n",
        "    # description and location are in the same h4 tag\n",
        "    # location has no class attached to it\n",
        "    # used the find_all method to have all the h4 attributes in a list\n",
        "    # and access using indexing\n",
        "    tag= home.find_all('h4')\n",
        "    description= tag[0].get_text()\n",
        "    location = tag[1].get_text()\n",
        "    prices = home.find('h3', class_='listings-price').get_text()\n",
        "    \n",
        "    listed_homes.append([description, location, prices])\n",
        "    "
      ]
    },
    {
      "cell_type": "code",
      "execution_count": null,
      "metadata": {
        "colab": {
          "base_uri": "https://localhost:8080/",
          "height": 206
        },
        "id": "-gcmpXXzCx2D",
        "outputId": "3fd33e47-e450-4269-ec11-834897a0b0f2"
      },
      "outputs": [
        {
          "data": {
            "text/html": [
              "\n",
              "  <div id=\"df-3f592e64-f12b-4647-b8d7-4b1a0583708e\">\n",
              "    <div class=\"colab-df-container\">\n",
              "      <div>\n",
              "<style scoped>\n",
              "    .dataframe tbody tr th:only-of-type {\n",
              "        vertical-align: middle;\n",
              "    }\n",
              "\n",
              "    .dataframe tbody tr th {\n",
              "        vertical-align: top;\n",
              "    }\n",
              "\n",
              "    .dataframe thead th {\n",
              "        text-align: right;\n",
              "    }\n",
              "</style>\n",
              "<table border=\"1\" class=\"dataframe\">\n",
              "  <thead>\n",
              "    <tr style=\"text-align: right;\">\n",
              "      <th></th>\n",
              "      <th>Description</th>\n",
              "      <th>Location</th>\n",
              "      <th>Prices</th>\n",
              "    </tr>\n",
              "  </thead>\n",
              "  <tbody>\n",
              "    <tr>\n",
              "      <th>0</th>\n",
              "      <td>5 BEDROOM HOUSE FOR RENT</td>\n",
              "      <td>Maitama Abuja</td>\n",
              "      <td>₦ 35,000,000/year</td>\n",
              "    </tr>\n",
              "    <tr>\n",
              "      <th>1</th>\n",
              "      <td>5 BEDROOM HOUSE FOR RENT</td>\n",
              "      <td>Katampe Ext Abuja</td>\n",
              "      <td>₦ 7,000,000/year</td>\n",
              "    </tr>\n",
              "    <tr>\n",
              "      <th>2</th>\n",
              "      <td>4 BEDROOM HOUSE FOR RENT</td>\n",
              "      <td>Idado/agungi, Lekki Lagos</td>\n",
              "      <td>₦ 6,000,000/year</td>\n",
              "    </tr>\n",
              "    <tr>\n",
              "      <th>3</th>\n",
              "      <td>COMMERCIAL PROPERTY FOR RENT</td>\n",
              "      <td>Phase 1, Lekki Lagos</td>\n",
              "      <td>₦ 3,500,000/year</td>\n",
              "    </tr>\n",
              "    <tr>\n",
              "      <th>4</th>\n",
              "      <td>4 BEDROOM HOUSE FOR RENT</td>\n",
              "      <td>Legislative Quarters, Zone E Apo Abuja</td>\n",
              "      <td>₦ 5,000,000/year</td>\n",
              "    </tr>\n",
              "  </tbody>\n",
              "</table>\n",
              "</div>\n",
              "      <button class=\"colab-df-convert\" onclick=\"convertToInteractive('df-3f592e64-f12b-4647-b8d7-4b1a0583708e')\"\n",
              "              title=\"Convert this dataframe to an interactive table.\"\n",
              "              style=\"display:none;\">\n",
              "        \n",
              "  <svg xmlns=\"http://www.w3.org/2000/svg\" height=\"24px\"viewBox=\"0 0 24 24\"\n",
              "       width=\"24px\">\n",
              "    <path d=\"M0 0h24v24H0V0z\" fill=\"none\"/>\n",
              "    <path d=\"M18.56 5.44l.94 2.06.94-2.06 2.06-.94-2.06-.94-.94-2.06-.94 2.06-2.06.94zm-11 1L8.5 8.5l.94-2.06 2.06-.94-2.06-.94L8.5 2.5l-.94 2.06-2.06.94zm10 10l.94 2.06.94-2.06 2.06-.94-2.06-.94-.94-2.06-.94 2.06-2.06.94z\"/><path d=\"M17.41 7.96l-1.37-1.37c-.4-.4-.92-.59-1.43-.59-.52 0-1.04.2-1.43.59L10.3 9.45l-7.72 7.72c-.78.78-.78 2.05 0 2.83L4 21.41c.39.39.9.59 1.41.59.51 0 1.02-.2 1.41-.59l7.78-7.78 2.81-2.81c.8-.78.8-2.07 0-2.86zM5.41 20L4 18.59l7.72-7.72 1.47 1.35L5.41 20z\"/>\n",
              "  </svg>\n",
              "      </button>\n",
              "      \n",
              "  <style>\n",
              "    .colab-df-container {\n",
              "      display:flex;\n",
              "      flex-wrap:wrap;\n",
              "      gap: 12px;\n",
              "    }\n",
              "\n",
              "    .colab-df-convert {\n",
              "      background-color: #E8F0FE;\n",
              "      border: none;\n",
              "      border-radius: 50%;\n",
              "      cursor: pointer;\n",
              "      display: none;\n",
              "      fill: #1967D2;\n",
              "      height: 32px;\n",
              "      padding: 0 0 0 0;\n",
              "      width: 32px;\n",
              "    }\n",
              "\n",
              "    .colab-df-convert:hover {\n",
              "      background-color: #E2EBFA;\n",
              "      box-shadow: 0px 1px 2px rgba(60, 64, 67, 0.3), 0px 1px 3px 1px rgba(60, 64, 67, 0.15);\n",
              "      fill: #174EA6;\n",
              "    }\n",
              "\n",
              "    [theme=dark] .colab-df-convert {\n",
              "      background-color: #3B4455;\n",
              "      fill: #D2E3FC;\n",
              "    }\n",
              "\n",
              "    [theme=dark] .colab-df-convert:hover {\n",
              "      background-color: #434B5C;\n",
              "      box-shadow: 0px 1px 3px 1px rgba(0, 0, 0, 0.15);\n",
              "      filter: drop-shadow(0px 1px 2px rgba(0, 0, 0, 0.3));\n",
              "      fill: #FFFFFF;\n",
              "    }\n",
              "  </style>\n",
              "\n",
              "      <script>\n",
              "        const buttonEl =\n",
              "          document.querySelector('#df-3f592e64-f12b-4647-b8d7-4b1a0583708e button.colab-df-convert');\n",
              "        buttonEl.style.display =\n",
              "          google.colab.kernel.accessAllowed ? 'block' : 'none';\n",
              "\n",
              "        async function convertToInteractive(key) {\n",
              "          const element = document.querySelector('#df-3f592e64-f12b-4647-b8d7-4b1a0583708e');\n",
              "          const dataTable =\n",
              "            await google.colab.kernel.invokeFunction('convertToInteractive',\n",
              "                                                     [key], {});\n",
              "          if (!dataTable) return;\n",
              "\n",
              "          const docLinkHtml = 'Like what you see? Visit the ' +\n",
              "            '<a target=\"_blank\" href=https://colab.research.google.com/notebooks/data_table.ipynb>data table notebook</a>'\n",
              "            + ' to learn more about interactive tables.';\n",
              "          element.innerHTML = '';\n",
              "          dataTable['output_type'] = 'display_data';\n",
              "          await google.colab.output.renderOutput(dataTable, element);\n",
              "          const docLink = document.createElement('div');\n",
              "          docLink.innerHTML = docLinkHtml;\n",
              "          element.appendChild(docLink);\n",
              "        }\n",
              "      </script>\n",
              "    </div>\n",
              "  </div>\n",
              "  "
            ],
            "text/plain": [
              "                    Description                                Location  \\\n",
              "0      5 BEDROOM HOUSE FOR RENT                           Maitama Abuja   \n",
              "1      5 BEDROOM HOUSE FOR RENT                       Katampe Ext Abuja   \n",
              "2      4 BEDROOM HOUSE FOR RENT               Idado/agungi, Lekki Lagos   \n",
              "3  COMMERCIAL PROPERTY FOR RENT                    Phase 1, Lekki Lagos   \n",
              "4      4 BEDROOM HOUSE FOR RENT  Legislative Quarters, Zone E Apo Abuja   \n",
              "\n",
              "                Prices  \n",
              "0   ₦ 35,000,000/year   \n",
              "1    ₦ 7,000,000/year   \n",
              "2    ₦ 6,000,000/year   \n",
              "3    ₦ 3,500,000/year   \n",
              "4    ₦ 5,000,000/year   "
            ]
          },
          "execution_count": 7,
          "metadata": {},
          "output_type": "execute_result"
        }
      ],
      "source": [
        "dx= pd.DataFrame(listed_homes, columns=['Description', 'Location', 'Prices'])\n",
        "dx.head()"
      ]
    },
    {
      "cell_type": "code",
      "execution_count": null,
      "metadata": {
        "id": "_dF2Qo63GTmR"
      },
      "outputs": [],
      "source": [
        "dx.to_csv('Property Homes.csv')"
      ]
    },
    {
      "cell_type": "code",
      "execution_count": null,
      "metadata": {
        "colab": {
          "base_uri": "https://localhost:8080/"
        },
        "id": "E7cEXWMaE6kr",
        "outputId": "c9acf17d-f270-454f-dd38-c8263a6f1966"
      },
      "outputs": [
        {
          "data": {
            "text/plain": [
              "(18913, 3)"
            ]
          },
          "execution_count": 9,
          "metadata": {},
          "output_type": "execute_result"
        }
      ],
      "source": [
        "dx.shape"
      ]
    },
    {
      "cell_type": "markdown",
      "metadata": {
        "id": "UIGqfj0DcZrk"
      },
      "source": [
        "# API\n",
        "\n",
        "They are different types of APIs, but the most popularly used is the REST API. The API contents would be accessed using requests and then parsed as a JSON format. JSON stands for Javascipt Object Notation, it is file format and data interchange format that is human-readable. The file is stored in key-value pairs and arrays. Its syntax:\n",
        "- Data is in key-value pairs\n",
        "- Data is seperated by commas\n",
        "- Curly brackets hold objects\n",
        "- Square brackets hold arrays\n",
        "\n",
        "It is similar to python dictionary and can also be accessed same way. \n",
        "\n",
        "Read more about JSON: https://blog.hubspot.com/website/json-files"
      ]
    },
    {
      "cell_type": "markdown",
      "metadata": {
        "id": "0nFpM3ydSwep"
      },
      "source": [
        "# Jiji"
      ]
    },
    {
      "cell_type": "code",
      "execution_count": null,
      "metadata": {
        "colab": {
          "background_save": true
        },
        "id": "bxaHOR25Szz5"
      },
      "outputs": [],
      "source": [
        "homes = []\n",
        "\n",
        "\n",
        "\n",
        "for i in range(1, 1000):\n",
        "  # pass website api url\n",
        "    url= f'https://jiji.ng/api_web/v1/listing?slug=houses-apartments-for-rent&page={i}'\n",
        "    response = requests.get(url)\n",
        "    # print(response.status_code)\n",
        "\n",
        "    # pass content as json format\n",
        "    data = response.json()\n",
        "    # print(data)\n",
        "\n",
        "    # access the content of the website \n",
        "    # similar to the previous urls, data is store in cards\n",
        "    # and each card is the\n",
        "    add_list= data[\"adverts_list\"][\"adverts\"]\n",
        "\n",
        "    for add in add_list:\n",
        "        description = add['fb_view_content_data']['content_name']\n",
        "        location = add['region_name']\n",
        "        price = add['price_obj']['value']\n",
        "        # print(len(price))\n",
        "        \n",
        "        homes.append([description, location, price])"
      ]
    },
    {
      "cell_type": "code",
      "execution_count": null,
      "metadata": {
        "colab": {
          "base_uri": "https://localhost:8080/",
          "height": 206
        },
        "id": "fbYDTPDYTBsO",
        "outputId": "c729c926-781b-4fdf-c6a1-069089551c40"
      },
      "outputs": [
        {
          "data": {
            "text/html": [
              "\n",
              "  <div id=\"df-7c549d2e-1ab5-4f14-aeb1-428f2346a038\">\n",
              "    <div class=\"colab-df-container\">\n",
              "      <div>\n",
              "<style scoped>\n",
              "    .dataframe tbody tr th:only-of-type {\n",
              "        vertical-align: middle;\n",
              "    }\n",
              "\n",
              "    .dataframe tbody tr th {\n",
              "        vertical-align: top;\n",
              "    }\n",
              "\n",
              "    .dataframe thead th {\n",
              "        text-align: right;\n",
              "    }\n",
              "</style>\n",
              "<table border=\"1\" class=\"dataframe\">\n",
              "  <thead>\n",
              "    <tr style=\"text-align: right;\">\n",
              "      <th></th>\n",
              "      <th>Description</th>\n",
              "      <th>Location</th>\n",
              "      <th>Price</th>\n",
              "    </tr>\n",
              "  </thead>\n",
              "  <tbody>\n",
              "    <tr>\n",
              "      <th>0</th>\n",
              "      <td>1bdrm Apartment in Ido for Rent</td>\n",
              "      <td>Ido</td>\n",
              "      <td>110000</td>\n",
              "    </tr>\n",
              "    <tr>\n",
              "      <th>1</th>\n",
              "      <td>1bdrm Apartment in Ido for Rent</td>\n",
              "      <td>Ido</td>\n",
              "      <td>150000</td>\n",
              "    </tr>\n",
              "    <tr>\n",
              "      <th>2</th>\n",
              "      <td>1bdrm Bungalow in Iragon, Badagry / Badagry fo...</td>\n",
              "      <td>Badagry / Badagry</td>\n",
              "      <td>100000</td>\n",
              "    </tr>\n",
              "    <tr>\n",
              "      <th>3</th>\n",
              "      <td>4bdrm House in Durumi for Rent</td>\n",
              "      <td>Durumi</td>\n",
              "      <td>9000000</td>\n",
              "    </tr>\n",
              "    <tr>\n",
              "      <th>4</th>\n",
              "      <td>5bdrm Duplex in Ikoyi Lagos for Rent</td>\n",
              "      <td>Ikoyi</td>\n",
              "      <td>30000000</td>\n",
              "    </tr>\n",
              "  </tbody>\n",
              "</table>\n",
              "</div>\n",
              "      <button class=\"colab-df-convert\" onclick=\"convertToInteractive('df-7c549d2e-1ab5-4f14-aeb1-428f2346a038')\"\n",
              "              title=\"Convert this dataframe to an interactive table.\"\n",
              "              style=\"display:none;\">\n",
              "        \n",
              "  <svg xmlns=\"http://www.w3.org/2000/svg\" height=\"24px\"viewBox=\"0 0 24 24\"\n",
              "       width=\"24px\">\n",
              "    <path d=\"M0 0h24v24H0V0z\" fill=\"none\"/>\n",
              "    <path d=\"M18.56 5.44l.94 2.06.94-2.06 2.06-.94-2.06-.94-.94-2.06-.94 2.06-2.06.94zm-11 1L8.5 8.5l.94-2.06 2.06-.94-2.06-.94L8.5 2.5l-.94 2.06-2.06.94zm10 10l.94 2.06.94-2.06 2.06-.94-2.06-.94-.94-2.06-.94 2.06-2.06.94z\"/><path d=\"M17.41 7.96l-1.37-1.37c-.4-.4-.92-.59-1.43-.59-.52 0-1.04.2-1.43.59L10.3 9.45l-7.72 7.72c-.78.78-.78 2.05 0 2.83L4 21.41c.39.39.9.59 1.41.59.51 0 1.02-.2 1.41-.59l7.78-7.78 2.81-2.81c.8-.78.8-2.07 0-2.86zM5.41 20L4 18.59l7.72-7.72 1.47 1.35L5.41 20z\"/>\n",
              "  </svg>\n",
              "      </button>\n",
              "      \n",
              "  <style>\n",
              "    .colab-df-container {\n",
              "      display:flex;\n",
              "      flex-wrap:wrap;\n",
              "      gap: 12px;\n",
              "    }\n",
              "\n",
              "    .colab-df-convert {\n",
              "      background-color: #E8F0FE;\n",
              "      border: none;\n",
              "      border-radius: 50%;\n",
              "      cursor: pointer;\n",
              "      display: none;\n",
              "      fill: #1967D2;\n",
              "      height: 32px;\n",
              "      padding: 0 0 0 0;\n",
              "      width: 32px;\n",
              "    }\n",
              "\n",
              "    .colab-df-convert:hover {\n",
              "      background-color: #E2EBFA;\n",
              "      box-shadow: 0px 1px 2px rgba(60, 64, 67, 0.3), 0px 1px 3px 1px rgba(60, 64, 67, 0.15);\n",
              "      fill: #174EA6;\n",
              "    }\n",
              "\n",
              "    [theme=dark] .colab-df-convert {\n",
              "      background-color: #3B4455;\n",
              "      fill: #D2E3FC;\n",
              "    }\n",
              "\n",
              "    [theme=dark] .colab-df-convert:hover {\n",
              "      background-color: #434B5C;\n",
              "      box-shadow: 0px 1px 3px 1px rgba(0, 0, 0, 0.15);\n",
              "      filter: drop-shadow(0px 1px 2px rgba(0, 0, 0, 0.3));\n",
              "      fill: #FFFFFF;\n",
              "    }\n",
              "  </style>\n",
              "\n",
              "      <script>\n",
              "        const buttonEl =\n",
              "          document.querySelector('#df-7c549d2e-1ab5-4f14-aeb1-428f2346a038 button.colab-df-convert');\n",
              "        buttonEl.style.display =\n",
              "          google.colab.kernel.accessAllowed ? 'block' : 'none';\n",
              "\n",
              "        async function convertToInteractive(key) {\n",
              "          const element = document.querySelector('#df-7c549d2e-1ab5-4f14-aeb1-428f2346a038');\n",
              "          const dataTable =\n",
              "            await google.colab.kernel.invokeFunction('convertToInteractive',\n",
              "                                                     [key], {});\n",
              "          if (!dataTable) return;\n",
              "\n",
              "          const docLinkHtml = 'Like what you see? Visit the ' +\n",
              "            '<a target=\"_blank\" href=https://colab.research.google.com/notebooks/data_table.ipynb>data table notebook</a>'\n",
              "            + ' to learn more about interactive tables.';\n",
              "          element.innerHTML = '';\n",
              "          dataTable['output_type'] = 'display_data';\n",
              "          await google.colab.output.renderOutput(dataTable, element);\n",
              "          const docLink = document.createElement('div');\n",
              "          docLink.innerHTML = docLinkHtml;\n",
              "          element.appendChild(docLink);\n",
              "        }\n",
              "      </script>\n",
              "    </div>\n",
              "  </div>\n",
              "  "
            ],
            "text/plain": [
              "                                         Description           Location  \\\n",
              "0                    1bdrm Apartment in Ido for Rent                Ido   \n",
              "1                    1bdrm Apartment in Ido for Rent                Ido   \n",
              "2  1bdrm Bungalow in Iragon, Badagry / Badagry fo...  Badagry / Badagry   \n",
              "3                     4bdrm House in Durumi for Rent             Durumi   \n",
              "4               5bdrm Duplex in Ikoyi Lagos for Rent              Ikoyi   \n",
              "\n",
              "      Price  \n",
              "0    110000  \n",
              "1    150000  \n",
              "2    100000  \n",
              "3   9000000  \n",
              "4  30000000  "
            ]
          },
          "execution_count": 11,
          "metadata": {},
          "output_type": "execute_result"
        }
      ],
      "source": [
        "dy = pd.DataFrame(homes, columns= ['Description', 'Location', 'Price'])\n",
        "dy.head()"
      ]
    },
    {
      "cell_type": "code",
      "execution_count": null,
      "metadata": {
        "colab": {
          "base_uri": "https://localhost:8080/"
        },
        "id": "ZW-Th7dKTTmm",
        "outputId": "a0249a05-2c02-4b93-f75f-e00323f7a47f"
      },
      "outputs": [
        {
          "data": {
            "text/plain": [
              "(19642, 3)"
            ]
          },
          "execution_count": 12,
          "metadata": {},
          "output_type": "execute_result"
        }
      ],
      "source": [
        "dy.shape"
      ]
    },
    {
      "cell_type": "code",
      "execution_count": null,
      "metadata": {
        "id": "T2Lnq59aUywY"
      },
      "outputs": [],
      "source": [
        "dy.to_csv('Jiji.csv')"
      ]
    }
  ],
  "metadata": {
    "colab": {
      "include_colab_link": true,
      "provenance": []
    },
    "kernelspec": {
      "display_name": "Python 3",
      "name": "python3"
    },
    "language_info": {
      "name": "python"
    }
  },
  "nbformat": 4,
  "nbformat_minor": 0
}
