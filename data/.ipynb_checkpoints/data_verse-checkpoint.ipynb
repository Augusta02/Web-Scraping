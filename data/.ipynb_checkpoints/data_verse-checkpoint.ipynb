{
 "cells": [
  {
   "cell_type": "markdown",
   "metadata": {},
   "source": [
    "# Web Scraping Nigeria Housing Data\n",
    "\n",
    "---\n",
    "\n",
    "\n",
    "Data is not readily available in Nigeria, therefore data professionals in this part of the world have to utilize web scraping to bridge the gap. In this project, we would be collecting data for a house prices project in Nigeria and scraping from Property Pro website  and answer business questions such as :\n",
    "\n",
    "- Average Price of Homes by Location\n",
    "- Most Popular Type of Homes\n",
    "\n",
    "- Property Pro: https://www.propertypro.ng/\n",
    "\n",
    "\n",
    "Data such as Description of the home/apartment, location and price would be collected from each of the websites and API. Information like are not included because Size of the rooms are not provided in the websites, also from further research size is determined by the owners of the properties. \n",
    "\n",
    "The most popular way to web scrap is through BeautifulSoup, a Python Package used for extracting data from HTML and XML contents. I will use this method and introduce extracting data through APIs in this project. \n",
    "\n",
    "BeautifulSoup is a Python library for pulling data out of HTML and XML files. Docs: https://www.crummy.com/software/BeautifulSoup/bs4/doc/\n"
   ]
  },
  {
   "cell_type": "code",
   "execution_count": 11,
   "metadata": {},
   "outputs": [],
   "source": [
    "import pandas as pd \n",
    "from bs4 import BeautifulSoup\n",
    "import re\n",
    "import requests"
   ]
  },
  {
   "cell_type": "markdown",
   "metadata": {},
   "source": [
    "## GET URL "
   ]
  },
  {
   "cell_type": "code",
   "execution_count": 12,
   "metadata": {},
   "outputs": [
    {
     "name": "stdout",
     "output_type": "stream",
     "text": [
      "200\n"
     ]
    }
   ],
   "source": [
    "url = 'https://www.propertypro.ng/property-for-rent?'\n",
    "headers = {'User-Agent': 'Mozilla/5.0 (Macintosh; Intel Mac OS X 10_11_5) AppleWebKit/537.36 (KHTML, like Gecko) Chrome/50.0.2661.102 Safari/537.36'}\n",
    "\n",
    "response = requests.get(url,headers=headers)\n",
    "# print(response.status_code)"
   ]
  },
  {
   "cell_type": "code",
   "execution_count": 13,
   "metadata": {},
   "outputs": [],
   "source": [
    "# res = response.content\n",
    "soup = BeautifulSoup(response.content, \"html.parser\")"
   ]
  },
  {
   "cell_type": "code",
   "execution_count": 17,
   "metadata": {},
   "outputs": [
    {
     "name": "stdout",
     "output_type": "stream",
     "text": [
      "<title>21308+ House, Flats &amp; Office For Rent in  Nigeria. | PropertyPro Nigeria</title>\n",
      "21308+ House, Flats & Office For Rent in  Nigeria. | PropertyPro Nigeria\n"
     ]
    }
   ],
   "source": [
    "print(soup.title)\n",
    "print(soup.title.string)\n"
   ]
  },
  {
   "cell_type": "code",
   "execution_count": 36,
   "metadata": {},
   "outputs": [],
   "source": [
    "listings = []\n",
    "\n",
    "for i in range(1,10):\n",
    "\n",
    "    url = f'https://www.propertypro.ng/property-for-rent?page={i}'\n",
    "    headers = {'User-Agent': 'Mozilla/5.0 (Macintosh; Intel Mac OS X 10_11_5) AppleWebKit/537.36 (KHTML, like Gecko) Chrome/50.0.2661.102 Safari/537.36'}\n",
    "\n",
    "    response = requests.get(url,headers=headers)\n",
    "    soup = BeautifulSoup(response.content, \"html.parser\")\n",
    "\n",
    "\n",
    "    cards = soup.find_all('div', class_='single-room-sale listings-property')\n",
    "\n",
    "    for card in cards:\n",
    "        var = card.find_all('h4')\n",
    "        description = var[0].get_text()\n",
    "        location = var[1].get_text()\n",
    "\n",
    "        # extract price \n",
    "        # price and house_type are located in h3 element\n",
    "        # find_all h3 and assign to var_2\n",
    "        var_2 =  card.find_all('h3')\n",
    "        house_type = var_2[0].get_text()\n",
    "        price = var_2[1].get_text()\n",
    "\n",
    "        listings.append([description, house_type, location, price])\n",
    "    "
   ]
  },
  {
   "cell_type": "code",
   "execution_count": 38,
   "metadata": {},
   "outputs": [
    {
     "data": {
      "text/html": [
       "<div>\n",
       "<style scoped>\n",
       "    .dataframe tbody tr th:only-of-type {\n",
       "        vertical-align: middle;\n",
       "    }\n",
       "\n",
       "    .dataframe tbody tr th {\n",
       "        vertical-align: top;\n",
       "    }\n",
       "\n",
       "    .dataframe thead th {\n",
       "        text-align: right;\n",
       "    }\n",
       "</style>\n",
       "<table border=\"1\" class=\"dataframe\">\n",
       "  <thead>\n",
       "    <tr style=\"text-align: right;\">\n",
       "      <th></th>\n",
       "      <th>Description</th>\n",
       "      <th>House_Type</th>\n",
       "      <th>Location</th>\n",
       "      <th>Price</th>\n",
       "    </tr>\n",
       "  </thead>\n",
       "  <tbody>\n",
       "    <tr>\n",
       "      <th>0</th>\n",
       "      <td>5 BEDROOM HOUSE FOR RENT</td>\n",
       "      <td>5 Bedroom Semi Detached Duplex</td>\n",
       "      <td>Banana Island Ikoyi Lagos</td>\n",
       "      <td>₦ 30,000,000/year</td>\n",
       "    </tr>\n",
       "    <tr>\n",
       "      <th>1</th>\n",
       "      <td>4 BEDROOM HOUSE FOR RENT</td>\n",
       "      <td>4 Bedroom Terrace Duplex</td>\n",
       "      <td>Lekki Lagos</td>\n",
       "      <td>₦ 9,500,000/year</td>\n",
       "    </tr>\n",
       "    <tr>\n",
       "      <th>2</th>\n",
       "      <td>4 BEDROOM HOUSE FOR RENT</td>\n",
       "      <td>Serviced 4 Bedroom Terraced Duplex</td>\n",
       "      <td>Old Ikoyi Lagos</td>\n",
       "      <td>₦ 20,000,000/year</td>\n",
       "    </tr>\n",
       "    <tr>\n",
       "      <th>3</th>\n",
       "      <td>2 BEDROOM HOUSE FOR RENT</td>\n",
       "      <td>2 Bedroom Apartment</td>\n",
       "      <td>Ikate Lekki Lagos</td>\n",
       "      <td>₦ 5,000,000/year</td>\n",
       "    </tr>\n",
       "    <tr>\n",
       "      <th>4</th>\n",
       "      <td>COMMERCIAL PROPERTY FOR RENT</td>\n",
       "      <td>1 Room Office Space</td>\n",
       "      <td>Liberty Road, Ibadan Oyo</td>\n",
       "      <td>₦ 400,000/year</td>\n",
       "    </tr>\n",
       "  </tbody>\n",
       "</table>\n",
       "</div>"
      ],
      "text/plain": [
       "                    Description                          House_Type  \\\n",
       "0      5 BEDROOM HOUSE FOR RENT      5 Bedroom Semi Detached Duplex   \n",
       "1      4 BEDROOM HOUSE FOR RENT            4 Bedroom Terrace Duplex   \n",
       "2      4 BEDROOM HOUSE FOR RENT  Serviced 4 Bedroom Terraced Duplex   \n",
       "3      2 BEDROOM HOUSE FOR RENT                 2 Bedroom Apartment   \n",
       "4  COMMERCIAL PROPERTY FOR RENT                 1 Room Office Space   \n",
       "\n",
       "                    Location                Price  \n",
       "0  Banana Island Ikoyi Lagos   ₦ 30,000,000/year   \n",
       "1                Lekki Lagos    ₦ 9,500,000/year   \n",
       "2            Old Ikoyi Lagos   ₦ 20,000,000/year   \n",
       "3          Ikate Lekki Lagos    ₦ 5,000,000/year   \n",
       "4   Liberty Road, Ibadan Oyo      ₦ 400,000/year   "
      ]
     },
     "execution_count": 38,
     "metadata": {},
     "output_type": "execute_result"
    }
   ],
   "source": [
    "df = pd.DataFrame(listings, columns=['Description', 'House_Type', 'Location', 'Price'])\n",
    "df.head()"
   ]
  },
  {
   "cell_type": "code",
   "execution_count": 40,
   "metadata": {},
   "outputs": [
    {
     "data": {
      "text/plain": [
       "(450, 4)"
      ]
     },
     "execution_count": 40,
     "metadata": {},
     "output_type": "execute_result"
    }
   ],
   "source": [
    "df.shape"
   ]
  },
  {
   "cell_type": "code",
   "execution_count": 41,
   "metadata": {},
   "outputs": [],
   "source": [
    "df.to_csv('House.csv', index=True)"
   ]
  },
  {
   "cell_type": "code",
   "execution_count": 42,
   "metadata": {},
   "outputs": [],
   "source": [
    "df.to_csv('house_datas.csv', index=False)"
   ]
  },
  {
   "cell_type": "code",
   "execution_count": 44,
   "metadata": {},
   "outputs": [
    {
     "data": {
      "text/plain": [
       "array(['5 BEDROOM HOUSE FOR RENT', '4 BEDROOM HOUSE FOR RENT',\n",
       "       '2 BEDROOM HOUSE FOR RENT', 'COMMERCIAL PROPERTY FOR RENT',\n",
       "       '10 BEDROOM HOUSE FOR RENT', '1 BEDROOM HOUSE FOR RENT',\n",
       "       '3 BEDROOM HOUSE FOR RENT', '2 BEDROOM FLAT / APARTMENT FOR RENT',\n",
       "       '3 BEDROOM FLAT / APARTMENT FOR RENT',\n",
       "       '4 BEDROOM FLAT / APARTMENT FOR RENT',\n",
       "       '1 BEDROOM FLAT / APARTMENT FOR RENT', 'FLAT / APARTMENT FOR RENT',\n",
       "       'CO WORKING SPACE FOR RENT', '6 BEDROOM HOUSE FOR RENT',\n",
       "       '7 BEDROOM HOUSE FOR RENT', '8 BEDROOM HOUSE FOR RENT',\n",
       "       'HOUSE FOR RENT', 'LAND FOR RENT', '9 BEDROOM HOUSE FOR RENT',\n",
       "       '3 BEDROOM COMMERCIAL PROPERTY FOR RENT',\n",
       "       '4 BEDROOM COMMERCIAL PROPERTY FOR RENT'], dtype=object)"
      ]
     },
     "execution_count": 44,
     "metadata": {},
     "output_type": "execute_result"
    }
   ],
   "source": [
    "df['Description'].unique()"
   ]
  }
 ],
 "metadata": {
  "kernelspec": {
   "display_name": "Python 3 (ipykernel)",
   "language": "python",
   "name": "python3"
  },
  "language_info": {
   "codemirror_mode": {
    "name": "ipython",
    "version": 3
   },
   "file_extension": ".py",
   "mimetype": "text/x-python",
   "name": "python",
   "nbconvert_exporter": "python",
   "pygments_lexer": "ipython3",
   "version": "3.10.9"
  }
 },
 "nbformat": 4,
 "nbformat_minor": 2
}
