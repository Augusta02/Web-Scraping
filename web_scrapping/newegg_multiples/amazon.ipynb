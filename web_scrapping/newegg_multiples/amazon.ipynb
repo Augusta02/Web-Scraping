{
 "cells": [
  {
   "cell_type": "code",
   "execution_count": 11,
   "metadata": {},
   "outputs": [
    {
     "name": "stdout",
     "output_type": "stream",
     "text": [
      "Index(['Unnamed: 0', 'Product_Name', 'Price', 'Shippment Type', 'Discount'], dtype='object')\n",
      "0      NaN\n",
      "1      NaN\n",
      "2       7%\n",
      "3      NaN\n",
      "4      NaN\n",
      "      ... \n",
      "514    NaN\n",
      "515    NaN\n",
      "516    NaN\n",
      "517    NaN\n",
      "518    NaN\n",
      "Name: Discount, Length: 519, dtype: object\n"
     ]
    }
   ],
   "source": [
    "import pandas as pd\n",
    "data = pd.read_csv('products.csv')\n",
    "\n",
    "# print(data.shape)\n",
    "print(data.columns)\n",
    "print(data['Discount'])"
   ]
  },
  {
   "cell_type": "code",
   "execution_count": 13,
   "metadata": {},
   "outputs": [
    {
     "name": "stdout",
     "output_type": "stream",
     "text": [
      "       Unnamed: 0\n",
      "count  519.000000\n",
      "mean   259.000000\n",
      "std    149.966663\n",
      "min      0.000000\n",
      "25%    129.500000\n",
      "50%    259.000000\n",
      "75%    388.500000\n",
      "max    518.000000\n"
     ]
    }
   ],
   "source": [
    "print(data.describe())"
   ]
  },
  {
   "cell_type": "code",
   "execution_count": 12,
   "metadata": {},
   "outputs": [
    {
     "name": "stdout",
     "output_type": "stream",
     "text": [
      "True\n"
     ]
    }
   ],
   "source": [
    "discount= data['Discount']\n",
    "products= data['Product_Name']\n",
    "\n",
    "print(len(discount) == len(products))"
   ]
  }
 ],
 "metadata": {
  "kernelspec": {
   "display_name": "Python 3",
   "language": "python",
   "name": "python3"
  },
  "language_info": {
   "codemirror_mode": {
    "name": "ipython",
    "version": 3
   },
   "file_extension": ".py",
   "mimetype": "text/x-python",
   "name": "python",
   "nbconvert_exporter": "python",
   "pygments_lexer": "ipython3",
   "version": "3.10.5"
  },
  "orig_nbformat": 4,
  "vscode": {
   "interpreter": {
    "hash": "aee8b7b246df8f9039afb4144a1f6fd8d2ca17a180786b69acc140d282b71a49"
   }
  }
 },
 "nbformat": 4,
 "nbformat_minor": 2
}
