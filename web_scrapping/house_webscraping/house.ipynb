{
 "cells": [
  {
   "cell_type": "code",
   "execution_count": 1,
   "metadata": {},
   "outputs": [],
   "source": [
    "import requests\n",
    "from bs4 import BeautifulSoup\n",
    "import pandas as pd\n",
    "import re"
   ]
  },
  {
   "cell_type": "code",
   "execution_count": 10,
   "metadata": {},
   "outputs": [
    {
     "name": "stdout",
     "output_type": "stream",
     "text": [
      "1 bedroom semi-detached duplex for rent\n",
      "\n",
      "1,650,000\n",
      "4 bedroom terraced duplex for rent\n",
      "\n",
      "5,000,000\n",
      "4 bedroom semi-detached duplex for rent\n",
      "\n",
      "6,000,000\n",
      "4 bedroom house for rent\n",
      "\n",
      "18,000,000\n",
      "4 bedroom terraced duplex for rent\n",
      "\n",
      "3,500,000\n",
      "2 bedroom house for rent\n",
      "\n",
      "800,000\n",
      "3 bedroom detached duplex for rent\n",
      "\n",
      "750,000\n",
      "3 bedroom terraced duplex for rent\n",
      "\n",
      "2,000,000\n",
      "5 bedroom detached duplex for rent\n",
      "\n",
      "15,000,000\n",
      "4 bedroom terraced duplex for rent\n",
      "\n",
      "10,000,000\n",
      "4 bedroom terraced duplex for rent\n",
      "\n",
      "8,000,000\n",
      "4 bedroom terraced duplex for rent\n",
      "\n",
      "8,000,000\n",
      "1 bedroom house for rent\n",
      "\n",
      "500,000\n",
      "4 bedroom semi-detached duplex for rent\n",
      "\n",
      "4,500,000\n",
      "4 bedroom semi-detached duplex for rent\n",
      "\n",
      "4,000,000\n",
      "4 bedroom terraced duplex for rent\n",
      "\n",
      "15,000,000\n",
      "2 bedroom house for rent\n",
      "\n",
      "2,200,000\n",
      "4 bedroom semi-detached duplex for rent\n",
      "\n",
      "4,500,000\n",
      "1 bedroom house for rent\n",
      "\n",
      "600,000\n",
      "4 bedroom terraced duplex for rent\n",
      "\n",
      "9,000,000\n",
      "1 bedroom house for rent\n",
      "\n",
      "1,500,000\n"
     ]
    }
   ],
   "source": [
    "url = \"https://nigeriapropertycentre.com/for-rent/houses\"\n",
    "headers = {'User-Agent': 'Mozilla/5.0 (Macintosh; Intel Mac OS X 10_11_5) AppleWebKit/537.36 (KHTML, like Gecko) Chrome/50.0.2661.102 Safari/537.36'}\n",
    "\n",
    "response= requests.get(url,headers=headers)\n",
    "# print(response.status_code)\n",
    "\n",
    "soup= BeautifulSoup(response.content, \"html.parser\")\n",
    "items= soup.find_all('div', class_='wp-block-body')\n",
    "\n",
    "for item in items:\n",
    "  description = item.find('h4', class_='content-title').get_text()\n",
    "  location = item.find('i', class_='fal fa-map-marker').get_text()\n",
    "  prices = item.find_all('span', class_='price')\n",
    "  price = prices[1].get_text()\n",
    "  print(description)\n",
    "  print(location)\n",
    "  print(price)\n",
    "\n",
    "# print(items)\n"
   ]
  },
  {
   "cell_type": "code",
   "execution_count": null,
   "metadata": {},
   "outputs": [],
   "source": []
  }
 ],
 "metadata": {
  "kernelspec": {
   "display_name": "Python 3",
   "language": "python",
   "name": "python3"
  },
  "language_info": {
   "codemirror_mode": {
    "name": "ipython",
    "version": 3
   },
   "file_extension": ".py",
   "mimetype": "text/x-python",
   "name": "python",
   "nbconvert_exporter": "python",
   "pygments_lexer": "ipython3",
   "version": "3.10.5"
  },
  "orig_nbformat": 4
 },
 "nbformat": 4,
 "nbformat_minor": 2
}
